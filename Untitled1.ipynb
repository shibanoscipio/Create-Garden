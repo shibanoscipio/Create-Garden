{
  "nbformat": 4,
  "nbformat_minor": 0,
  "metadata": {
    "colab": {
      "name": "Untitled1.ipynb",
      "provenance": [],
      "collapsed_sections": [],
      "authorship_tag": "ABX9TyO6IHUpcY173AqdNEUrJLyc",
      "include_colab_link": true
    },
    "kernelspec": {
      "name": "python3",
      "display_name": "Python 3"
    }
  },
  "cells": [
    {
      "cell_type": "markdown",
      "metadata": {
        "id": "view-in-github",
        "colab_type": "text"
      },
      "source": [
        "<a href=\"https://colab.research.google.com/github/shibanoscipio/Create-Garden/blob/main/Untitled1.ipynb\" target=\"_parent\"><img src=\"https://colab.research.google.com/assets/colab-badge.svg\" alt=\"Open In Colab\"/></a>"
      ]
    },
    {
      "cell_type": "code",
      "metadata": {
        "colab": {
          "base_uri": "https://localhost:8080/",
          "height": 35
        },
        "id": "oEKgHRCFr_X5",
        "outputId": "8ba62f29-a2c6-4feb-ba03-0aa00fb4ace8"
      },
      "source": [
        "%tensorflow_version 2.x\r\n",
        "import tensorflow as tf\r\n",
        "import os\r\n",
        "import io\r\n",
        "tf.__version__"
      ],
      "execution_count": 8,
      "outputs": [
        {
          "output_type": "execute_result",
          "data": {
            "application/vnd.google.colaboratory.intrinsic+json": {
              "type": "string"
            },
            "text/plain": [
              "'2.4.1'"
            ]
          },
          "metadata": {
            "tags": []
          },
          "execution_count": 8
        }
      ]
    },
    {
      "cell_type": "code",
      "metadata": {
        "colab": {
          "base_uri": "https://localhost:8080/"
        },
        "id": "gPln-4AJsXm1",
        "outputId": "330b2d73-4bd4-4805-b19b-ee53ce191bbd"
      },
      "source": [
        "path_to_zip = tf.keras.utils.get_file(\"smsspamcollection.zip\",\r\n",
        "                                      origin=\"https://archive.ics.uci.edu/ml/machine-learning-databases/00228/smsspamcollection.zip\",\r\n",
        "                                      extract=True)\r\n",
        "!unzip $path_to_zip -d data"
      ],
      "execution_count": 9,
      "outputs": [
        {
          "output_type": "stream",
          "text": [
            "Archive:  /root/.keras/datasets/smsspamcollection.zip\n",
            "replace data/SMSSpamCollection? [y]es, [n]o, [A]ll, [N]one, [r]ename: y\n",
            "  inflating: data/SMSSpamCollection  \n",
            "replace data/readme? [y]es, [n]o, [A]ll, [N]one, [r]ename: y\n",
            "  inflating: data/readme             \n"
          ],
          "name": "stdout"
        }
      ]
    },
    {
      "cell_type": "code",
      "metadata": {
        "colab": {
          "base_uri": "https://localhost:8080/",
          "height": 35
        },
        "id": "b2b2L1oVtPXw",
        "outputId": "687ab3cc-9fc2-4d93-d998-20c6c6dea351"
      },
      "source": [
        "'ham\\tGo until jurong point, crazy.. Available only in bugins n great world'"
      ],
      "execution_count": 10,
      "outputs": [
        {
          "output_type": "execute_result",
          "data": {
            "application/vnd.google.colaboratory.intrinsic+json": {
              "type": "string"
            },
            "text/plain": [
              "'ham\\tGo until jurong point, crazy.. Available only in bugins n great world'"
            ]
          },
          "metadata": {
            "tags": []
          },
          "execution_count": 10
        }
      ]
    },
    {
      "cell_type": "code",
      "metadata": {
        "colab": {
          "base_uri": "https://localhost:8080/",
          "height": 52
        },
        "id": "40FoQk8LtkYs",
        "outputId": "7c600f80-8e63-48b9-8240-c80707fe934d"
      },
      "source": [
        "lines = io.open('data/SMSSpamCollection').read().strip().split('\\n')\r\n",
        "lines[0]"
      ],
      "execution_count": 11,
      "outputs": [
        {
          "output_type": "execute_result",
          "data": {
            "application/vnd.google.colaboratory.intrinsic+json": {
              "type": "string"
            },
            "text/plain": [
              "'ham\\tGo until jurong point, crazy.. Available only in bugis n great world la e buffet... Cine there got amore wat...'"
            ]
          },
          "metadata": {
            "tags": []
          },
          "execution_count": 11
        }
      ]
    },
    {
      "cell_type": "code",
      "metadata": {
        "colab": {
          "base_uri": "https://localhost:8080/"
        },
        "id": "Yzu1Pq16uLsA",
        "outputId": "c3fecf45-bde6-4346-dfb3-a59771806faf"
      },
      "source": [
        "spam_dataset = []\r\n",
        "for line in lines:\r\n",
        "  label, text = line.split('\\t')\r\n",
        "  if label.strip() == 'spam':\r\n",
        "    spam_dataset.append((1, text.strip()))\r\n",
        "  else:\r\n",
        "    spam_dataset.append(((0, text.strip())))\r\n",
        "print(spam_dataset[0])"
      ],
      "execution_count": 12,
      "outputs": [
        {
          "output_type": "stream",
          "text": [
            "(0, 'Go until jurong point, crazy.. Available only in bugis n great world la e buffet... Cine there got amore wat...')\n"
          ],
          "name": "stdout"
        }
      ]
    },
    {
      "cell_type": "code",
      "metadata": {
        "id": "Sag-p5VjwdSf"
      },
      "source": [
        "import pandas as pd\r\n",
        "df = pd.DataFrame(spam_dataset, columns=['Spam', 'Message'])"
      ],
      "execution_count": 13,
      "outputs": []
    },
    {
      "cell_type": "code",
      "metadata": {
        "id": "rQvzMJYGynkj"
      },
      "source": [
        "import re\r\n",
        "def message_length(x):\r\n",
        "  # returns total number of characters\r\n",
        "  return len(x)\r\n",
        "def num_capitals(x):\r\n",
        "  _, count = re.subn(r'[A-Z]', '', x) # only works in english\r\n",
        "  return count\r\n",
        "def num_punctuation(x):\r\n",
        "  _, count = re.subn(r'\\w', '', x)\r\n",
        "  return count"
      ],
      "execution_count": 14,
      "outputs": []
    },
    {
      "cell_type": "code",
      "metadata": {
        "colab": {
          "base_uri": "https://localhost:8080/",
          "height": 297
        },
        "id": "isMoYIIazldM",
        "outputId": "94dce28c-79d5-41ac-8b6e-604374fa73e1"
      },
      "source": [
        "df['Capitals'] = df['Message'].apply(num_capitals)\r\n",
        "df['Punctuation'] = df['Message'].apply(num_punctuation)\r\n",
        "df['Length'] = df['Message'].apply(message_length)\r\n",
        "df.describe()"
      ],
      "execution_count": 15,
      "outputs": [
        {
          "output_type": "execute_result",
          "data": {
            "text/html": [
              "<div>\n",
              "<style scoped>\n",
              "    .dataframe tbody tr th:only-of-type {\n",
              "        vertical-align: middle;\n",
              "    }\n",
              "\n",
              "    .dataframe tbody tr th {\n",
              "        vertical-align: top;\n",
              "    }\n",
              "\n",
              "    .dataframe thead th {\n",
              "        text-align: right;\n",
              "    }\n",
              "</style>\n",
              "<table border=\"1\" class=\"dataframe\">\n",
              "  <thead>\n",
              "    <tr style=\"text-align: right;\">\n",
              "      <th></th>\n",
              "      <th>Spam</th>\n",
              "      <th>Capitals</th>\n",
              "      <th>Punctuation</th>\n",
              "      <th>Length</th>\n",
              "    </tr>\n",
              "  </thead>\n",
              "  <tbody>\n",
              "    <tr>\n",
              "      <th>count</th>\n",
              "      <td>5574.000000</td>\n",
              "      <td>5574.000000</td>\n",
              "      <td>5574.000000</td>\n",
              "      <td>5574.000000</td>\n",
              "    </tr>\n",
              "    <tr>\n",
              "      <th>mean</th>\n",
              "      <td>0.134015</td>\n",
              "      <td>5.621636</td>\n",
              "      <td>61.500897</td>\n",
              "      <td>80.443488</td>\n",
              "    </tr>\n",
              "    <tr>\n",
              "      <th>std</th>\n",
              "      <td>0.340699</td>\n",
              "      <td>11.683233</td>\n",
              "      <td>45.805727</td>\n",
              "      <td>59.841746</td>\n",
              "    </tr>\n",
              "    <tr>\n",
              "      <th>min</th>\n",
              "      <td>0.000000</td>\n",
              "      <td>0.000000</td>\n",
              "      <td>0.000000</td>\n",
              "      <td>2.000000</td>\n",
              "    </tr>\n",
              "    <tr>\n",
              "      <th>25%</th>\n",
              "      <td>0.000000</td>\n",
              "      <td>1.000000</td>\n",
              "      <td>27.000000</td>\n",
              "      <td>36.000000</td>\n",
              "    </tr>\n",
              "    <tr>\n",
              "      <th>50%</th>\n",
              "      <td>0.000000</td>\n",
              "      <td>2.000000</td>\n",
              "      <td>46.000000</td>\n",
              "      <td>61.000000</td>\n",
              "    </tr>\n",
              "    <tr>\n",
              "      <th>75%</th>\n",
              "      <td>0.000000</td>\n",
              "      <td>4.000000</td>\n",
              "      <td>93.000000</td>\n",
              "      <td>122.000000</td>\n",
              "    </tr>\n",
              "    <tr>\n",
              "      <th>max</th>\n",
              "      <td>1.000000</td>\n",
              "      <td>129.000000</td>\n",
              "      <td>718.000000</td>\n",
              "      <td>910.000000</td>\n",
              "    </tr>\n",
              "  </tbody>\n",
              "</table>\n",
              "</div>"
            ],
            "text/plain": [
              "              Spam     Capitals  Punctuation       Length\n",
              "count  5574.000000  5574.000000  5574.000000  5574.000000\n",
              "mean      0.134015     5.621636    61.500897    80.443488\n",
              "std       0.340699    11.683233    45.805727    59.841746\n",
              "min       0.000000     0.000000     0.000000     2.000000\n",
              "25%       0.000000     1.000000    27.000000    36.000000\n",
              "50%       0.000000     2.000000    46.000000    61.000000\n",
              "75%       0.000000     4.000000    93.000000   122.000000\n",
              "max       1.000000   129.000000   718.000000   910.000000"
            ]
          },
          "metadata": {
            "tags": []
          },
          "execution_count": 15
        }
      ]
    },
    {
      "cell_type": "code",
      "metadata": {
        "id": "YCxY5C_w0VUc"
      },
      "source": [
        "train=df.sample(frac=0.8,random_state=42)\r\n",
        "test=df.drop(train.index)\r\n",
        "x_train = train[['Length', 'Capitals', 'Punctuation']]\r\n",
        "y_train = train[['Spam']]\r\n",
        "x_test = test[['Length', 'Capitals', 'Punctuation']]\r\n",
        "y_test = test[['Spam']]"
      ],
      "execution_count": 16,
      "outputs": []
    },
    {
      "cell_type": "code",
      "metadata": {
        "id": "68AdBvz81M0h"
      },
      "source": [
        "# Basic 1-layer neural network model for evaluation\r\n",
        "def make_model(input_dims=3, num_units=12):\r\n",
        "  model = tf.keras.Sequential()\r\n",
        "  # Adds a densely-connected layer with 12 units to the model:\r\n",
        "  model.add(tf.keras.layers.Dense(num_units,\r\n",
        "                                  input_dim=input_dims,\r\n",
        "                                  activation='relu'))\r\n",
        "  # Add a sgmoid layer with a binary output unit:\r\n",
        "  model.add(tf.keras.layers.Dense(1, activation='sigmoid'))\r\n",
        "  model.compile(loss= 'binary_crossentropy', optimizer='adam',\r\n",
        "                metrics=['accuracy'])\r\n",
        "  return model"
      ],
      "execution_count": 17,
      "outputs": []
    },
    {
      "cell_type": "code",
      "metadata": {
        "colab": {
          "base_uri": "https://localhost:8080/"
        },
        "id": "08PMD7SV3IhP",
        "outputId": "b833ecf1-1b2f-46d3-e605-8839e27d3e69"
      },
      "source": [
        "model = make_model()\r\n",
        "model.fit(x_train, y_train, epochs=10, batch_size=10)"
      ],
      "execution_count": 18,
      "outputs": [
        {
          "output_type": "stream",
          "text": [
            "Epoch 1/10\n",
            "446/446 [==============================] - 1s 1ms/step - loss: 9.5918 - accuracy: 0.4755\n",
            "Epoch 2/10\n",
            "446/446 [==============================] - 0s 1ms/step - loss: 0.4620 - accuracy: 0.8682\n",
            "Epoch 3/10\n",
            "446/446 [==============================] - 0s 1ms/step - loss: 0.3201 - accuracy: 0.9125\n",
            "Epoch 4/10\n",
            "446/446 [==============================] - 1s 1ms/step - loss: 0.2719 - accuracy: 0.9236\n",
            "Epoch 5/10\n",
            "446/446 [==============================] - 0s 1ms/step - loss: 0.2643 - accuracy: 0.9225\n",
            "Epoch 6/10\n",
            "446/446 [==============================] - 0s 1ms/step - loss: 0.2233 - accuracy: 0.9293\n",
            "Epoch 7/10\n",
            "446/446 [==============================] - 0s 1ms/step - loss: 0.2105 - accuracy: 0.9337\n",
            "Epoch 8/10\n",
            "446/446 [==============================] - 0s 1ms/step - loss: 0.2012 - accuracy: 0.9396\n",
            "Epoch 9/10\n",
            "446/446 [==============================] - 0s 1ms/step - loss: 0.2022 - accuracy: 0.9314\n",
            "Epoch 10/10\n",
            "446/446 [==============================] - 0s 1ms/step - loss: 0.2009 - accuracy: 0.9293\n"
          ],
          "name": "stdout"
        },
        {
          "output_type": "execute_result",
          "data": {
            "text/plain": [
              "<tensorflow.python.keras.callbacks.History at 0x7ff733728c50>"
            ]
          },
          "metadata": {
            "tags": []
          },
          "execution_count": 18
        }
      ]
    },
    {
      "cell_type": "code",
      "metadata": {
        "colab": {
          "base_uri": "https://localhost:8080/"
        },
        "id": "GhT7vg0M3mgr",
        "outputId": "3de904ba-6a58-417a-ca78-29f1730e5040"
      },
      "source": [
        "model.evaluate(x_test, y_test)"
      ],
      "execution_count": 19,
      "outputs": [
        {
          "output_type": "stream",
          "text": [
            "35/35 [==============================] - 0s 990us/step - loss: 0.2104 - accuracy: 0.9247\n"
          ],
          "name": "stdout"
        },
        {
          "output_type": "execute_result",
          "data": {
            "text/plain": [
              "[0.21039564907550812, 0.9246636629104614]"
            ]
          },
          "metadata": {
            "tags": []
          },
          "execution_count": 19
        }
      ]
    },
    {
      "cell_type": "code",
      "metadata": {
        "colab": {
          "base_uri": "https://localhost:8080/"
        },
        "id": "p-heH3Gh5UK2",
        "outputId": "cd6d53e7-4ad3-4e6a-f4d6-501aad9a23a9"
      },
      "source": [
        "y_train_pred = model.predict_classes(x_train)\r\n",
        "tf.math.confusion_matrix(tf.constant(y_train.Spam), y_train_pred)"
      ],
      "execution_count": 20,
      "outputs": [
        {
          "output_type": "stream",
          "text": [
            "/usr/local/lib/python3.7/dist-packages/tensorflow/python/keras/engine/sequential.py:450: UserWarning: `model.predict_classes()` is deprecated and will be removed after 2021-01-01. Please use instead:* `np.argmax(model.predict(x), axis=-1)`,   if your model does multi-class classification   (e.g. if it uses a `softmax` last-layer activation).* `(model.predict(x) > 0.5).astype(\"int32\")`,   if your model does binary classification   (e.g. if it uses a `sigmoid` last-layer activation).\n",
            "  warnings.warn('`model.predict_classes()` is deprecated and '\n"
          ],
          "name": "stderr"
        },
        {
          "output_type": "execute_result",
          "data": {
            "text/plain": [
              "<tf.Tensor: shape=(2, 2), dtype=int32, numpy=\n",
              "array([[3811,   56],\n",
              "       [ 255,  337]], dtype=int32)>"
            ]
          },
          "metadata": {
            "tags": []
          },
          "execution_count": 20
        }
      ]
    },
    {
      "cell_type": "code",
      "metadata": {
        "colab": {
          "base_uri": "https://localhost:8080/"
        },
        "id": "7KvEPXHSFMwv",
        "outputId": "5ee5662b-62bf-483b-f9f9-38d74318c022"
      },
      "source": [
        "!pip install stanfordnlp"
      ],
      "execution_count": 21,
      "outputs": [
        {
          "output_type": "stream",
          "text": [
            "Collecting stanfordnlp\n",
            "\u001b[?25l  Downloading https://files.pythonhosted.org/packages/41/bf/5d2898febb6e993fcccd90484cba3c46353658511a41430012e901824e94/stanfordnlp-0.2.0-py3-none-any.whl (158kB)\n",
            "\r\u001b[K     |██                              | 10kB 15.3MB/s eta 0:00:01\r\u001b[K     |████▏                           | 20kB 20.8MB/s eta 0:00:01\r\u001b[K     |██████▏                         | 30kB 11.2MB/s eta 0:00:01\r\u001b[K     |████████▎                       | 40kB 9.5MB/s eta 0:00:01\r\u001b[K     |██████████▎                     | 51kB 8.1MB/s eta 0:00:01\r\u001b[K     |████████████▍                   | 61kB 7.7MB/s eta 0:00:01\r\u001b[K     |██████████████▌                 | 71kB 7.7MB/s eta 0:00:01\r\u001b[K     |████████████████▌               | 81kB 8.0MB/s eta 0:00:01\r\u001b[K     |██████████████████▋             | 92kB 7.9MB/s eta 0:00:01\r\u001b[K     |████████████████████▋           | 102kB 7.6MB/s eta 0:00:01\r\u001b[K     |██████████████████████▊         | 112kB 7.6MB/s eta 0:00:01\r\u001b[K     |████████████████████████▊       | 122kB 7.6MB/s eta 0:00:01\r\u001b[K     |██████████████████████████▉     | 133kB 7.6MB/s eta 0:00:01\r\u001b[K     |█████████████████████████████   | 143kB 7.6MB/s eta 0:00:01\r\u001b[K     |███████████████████████████████ | 153kB 7.6MB/s eta 0:00:01\r\u001b[K     |████████████████████████████████| 163kB 7.6MB/s \n",
            "\u001b[?25hRequirement already satisfied: numpy in /usr/local/lib/python3.7/dist-packages (from stanfordnlp) (1.19.5)\n",
            "Requirement already satisfied: requests in /usr/local/lib/python3.7/dist-packages (from stanfordnlp) (2.23.0)\n",
            "Requirement already satisfied: tqdm in /usr/local/lib/python3.7/dist-packages (from stanfordnlp) (4.41.1)\n",
            "Requirement already satisfied: protobuf in /usr/local/lib/python3.7/dist-packages (from stanfordnlp) (3.12.4)\n",
            "Requirement already satisfied: torch>=1.0.0 in /usr/local/lib/python3.7/dist-packages (from stanfordnlp) (1.8.0+cu101)\n",
            "Requirement already satisfied: idna<3,>=2.5 in /usr/local/lib/python3.7/dist-packages (from requests->stanfordnlp) (2.10)\n",
            "Requirement already satisfied: chardet<4,>=3.0.2 in /usr/local/lib/python3.7/dist-packages (from requests->stanfordnlp) (3.0.4)\n",
            "Requirement already satisfied: urllib3!=1.25.0,!=1.25.1,<1.26,>=1.21.1 in /usr/local/lib/python3.7/dist-packages (from requests->stanfordnlp) (1.24.3)\n",
            "Requirement already satisfied: certifi>=2017.4.17 in /usr/local/lib/python3.7/dist-packages (from requests->stanfordnlp) (2020.12.5)\n",
            "Requirement already satisfied: six>=1.9 in /usr/local/lib/python3.7/dist-packages (from protobuf->stanfordnlp) (1.15.0)\n",
            "Requirement already satisfied: setuptools in /usr/local/lib/python3.7/dist-packages (from protobuf->stanfordnlp) (54.0.0)\n",
            "Requirement already satisfied: typing-extensions in /usr/local/lib/python3.7/dist-packages (from torch>=1.0.0->stanfordnlp) (3.7.4.3)\n",
            "Installing collected packages: stanfordnlp\n",
            "Successfully installed stanfordnlp-0.2.0\n"
          ],
          "name": "stdout"
        }
      ]
    },
    {
      "cell_type": "code",
      "metadata": {
        "colab": {
          "base_uri": "https://localhost:8080/"
        },
        "id": "suENslDgGib-",
        "outputId": "c7bdd1af-0b38-4eaa-941a-9a08c6350b97"
      },
      "source": [
        "import stanfordnlp as snlp\r\n",
        "en = snlp.download('en')"
      ],
      "execution_count": 22,
      "outputs": [
        {
          "output_type": "stream",
          "text": [
            "Using the default treebank \"en_ewt\" for language \"en\".\n",
            "Would you like to download the models for: en_ewt now? (Y/n)\n",
            "y\n",
            "\n",
            "Default download directory: /root/stanfordnlp_resources\n",
            "Hit enter to continue or type an alternate directory.\n",
            "\n",
            "\n",
            "Downloading models for: en_ewt\n",
            "Download location: /root/stanfordnlp_resources/en_ewt_models.zip\n"
          ],
          "name": "stdout"
        },
        {
          "output_type": "stream",
          "text": [
            "100%|██████████| 235M/235M [00:29<00:00, 7.90MB/s]\n"
          ],
          "name": "stderr"
        },
        {
          "output_type": "stream",
          "text": [
            "\n",
            "Download complete.  Models saved to: /root/stanfordnlp_resources/en_ewt_models.zip\n",
            "Extracting models file for: en_ewt\n",
            "Cleaning up...Done.\n"
          ],
          "name": "stdout"
        }
      ]
    }
  ]
}